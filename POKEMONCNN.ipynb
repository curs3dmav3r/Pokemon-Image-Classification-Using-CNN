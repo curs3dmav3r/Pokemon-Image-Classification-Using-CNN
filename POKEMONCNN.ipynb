{
 "cells": [
  {
   "cell_type": "code",
   "execution_count": null,
   "id": "ae161002-d202-4f06-bec5-013dc863155f",
   "metadata": {},
   "outputs": [],
   "source": [
    "# Import necessary libraries\n",
    "import os\n",
    "import json\n",
    "from PIL import Image\n",
    "import tensorflow as tf\n",
    "from tensorflow.keras.models import Sequential\n",
    "from tensorflow.keras.layers import Conv2D, MaxPooling2D, Flatten, Dense, Dropout\n",
    "from tensorflow.keras.preprocessing.image import ImageDataGenerator\n",
    "from tensorflow.keras.callbacks import EarlyStopping, ModelCheckpoint\n",
    "import kagglehub"
   ]
  },
  {
   "cell_type": "code",
   "execution_count": null,
   "id": "f86e10f4-3e6b-4d9d-89a3-19e2399e1365",
   "metadata": {},
   "outputs": [],
   "source": [
    "# Download dataset using KaggleHub\n",
    "path = kagglehub.dataset_download(\"bhawks/pokemon-generation-one-22k\")\n",
    "images_dir = os.path.join(path, 'PokemonData')  # Base directory where images are stored"
   ]
  },
  {
   "cell_type": "code",
   "execution_count": null,
   "id": "c553bdc1-fd76-4ddf-81ba-d0d632187996",
   "metadata": {},
   "outputs": [],
   "source": [
    "# Verify if the dataset exists\n",
    "if not os.path.exists(images_dir):\n",
    "    raise FileNotFoundError(f\"Dataset directory not found at: {images_dir}\")\n",
    "print(f\"Dataset directory confirmed: {images_dir}\")\n"
   ]
  }
 ],
 "metadata": {
  "kernelspec": {
   "display_name": "Python (manish)",
   "language": "python",
   "name": "manish"
  },
  "language_info": {
   "codemirror_mode": {
    "name": "ipython",
    "version": 3
   },
   "file_extension": ".py",
   "mimetype": "text/x-python",
   "name": "python",
   "nbconvert_exporter": "python",
   "pygments_lexer": "ipython3",
   "version": "3.10.15"
  }
 },
 "nbformat": 4,
 "nbformat_minor": 5
}
